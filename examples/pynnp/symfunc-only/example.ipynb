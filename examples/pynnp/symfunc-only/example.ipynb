{
 "cells": [
  {
   "cell_type": "code",
   "execution_count": 1,
   "metadata": {},
   "outputs": [
    {
     "ename": "ImportError",
     "evalue": "No module named pynnp",
     "output_type": "error",
     "traceback": [
      "\u001b[0;31m---------------------------------------------------------------------------\u001b[0m",
      "\u001b[0;31mImportError\u001b[0m                               Traceback (most recent call last)",
      "\u001b[0;32m<ipython-input-1-7de297b8c4a7>\u001b[0m in \u001b[0;36m<module>\u001b[0;34m()\u001b[0m\n\u001b[1;32m     16\u001b[0m \u001b[0;31m# Option 1.) is obviously more comfortable and will also capture output to stderr.\u001b[0m\u001b[0;34m\u001b[0m\u001b[0;34m\u001b[0m\u001b[0m\n\u001b[1;32m     17\u001b[0m \u001b[0mget_ipython\u001b[0m\u001b[0;34m(\u001b[0m\u001b[0;34m)\u001b[0m\u001b[0;34m.\u001b[0m\u001b[0mmagic\u001b[0m\u001b[0;34m(\u001b[0m\u001b[0;34mu'load_ext wurlitzer'\u001b[0m\u001b[0;34m)\u001b[0m\u001b[0;34m\u001b[0m\u001b[0m\n\u001b[0;32m---> 18\u001b[0;31m \u001b[0;32mimport\u001b[0m \u001b[0mpynnp\u001b[0m\u001b[0;34m\u001b[0m\u001b[0m\n\u001b[0m\u001b[1;32m     19\u001b[0m \u001b[0;32mfrom\u001b[0m \u001b[0msys\u001b[0m \u001b[0;32mimport\u001b[0m \u001b[0mstdout\u001b[0m \u001b[0;32mas\u001b[0m \u001b[0mso\u001b[0m\u001b[0;34m\u001b[0m\u001b[0m\n",
      "\u001b[0;31mImportError\u001b[0m: No module named pynnp"
     ]
    }
   ],
   "source": [
    "# To capture the NNP library stdout output we have two possible options:\n",
    "#\n",
    "# 1.) Install \"wurlitzer\" available via pip or github.com/minrk/wurlitzer\n",
    "#     > pip install wurlitzer\n",
    "#     and load as extension\n",
    "#     > %load_ext wurlitzer\n",
    "#\n",
    "# 2.) Silence the library output (which will otherwise go to Jupyter server shell)\n",
    "#     > nnp = pynnp.Mode()\n",
    "#     > nnp.log.writeToStdout = False\n",
    "#     > ... do initialization ...\n",
    "#     and recall the log later:\n",
    "#     > for line in nnp.log.getLog():\n",
    "#     >     sys.stdout.write(line)\n",
    "#\n",
    "# Option 1.) is obviously more comfortable and will also capture output to stderr.\n",
    "%load_ext wurlitzer\n",
    "import pynnp\n",
    "from sys import stdout as so"
   ]
  },
  {
   "cell_type": "code",
   "execution_count": null,
   "metadata": {},
   "outputs": [],
   "source": [
    "# Create instance of NNP setup.                               \n",
    "nnp = pynnp.Mode()\n",
    "\n",
    "# Turn off output to stdout (for Option 2.) described above).\n",
    "#nnp.log.writeToStdout = False"
   ]
  },
  {
   "cell_type": "code",
   "execution_count": null,
   "metadata": {
    "scrolled": false
   },
   "outputs": [],
   "source": [
    "# Run initialization steps (symmetry functions only).\n",
    "nnp.initialize()                                                                  \n",
    "nnp.loadSettingsFile(\"input.nn\")                                                  \n",
    "nnp.setupElementMap()                                                             \n",
    "nnp.setupElements()                                                               \n",
    "nnp.setupCutoff()                                                                 \n",
    "nnp.setupSymmetryFunctions()                                                      \n",
    "nnp.setupSymmetryFunctionGroups()\n",
    "# Either use symmetry function scaling...\n",
    "#nnp.setupSymmetryFunctionScaling(\"scaling.data\")                                  \n",
    "#nnp.setupSymmetryFunctionStatistics(False, False, True, False)\n",
    "# ... or calculate raw values.\n",
    "nnp.setupSymmetryFunctionScalingNone()\n",
    "\n",
    "# Print log file (for Option 2.) described above).\n",
    "#for line in m.log.getLog():\n",
    "#    so.write(line)"
   ]
  },
  {
   "cell_type": "code",
   "execution_count": null,
   "metadata": {},
   "outputs": [],
   "source": [
    "# Create an empty structure.\n",
    "struct = pynnp.Structure()\n",
    "\n",
    "# Tell the structure which elements are to be expected,\n",
    "# i.e. pass the ElementMap from the NNP setup instance.\n",
    "# Note: this step is required!\n",
    "struct.setElementMap(nnp.elementMap)"
   ]
  },
  {
   "cell_type": "code",
   "execution_count": null,
   "metadata": {},
   "outputs": [],
   "source": [
    "# Read in configuration from file.\n",
    "# WARNING: Do not read repeatedly as this will pile up atoms!\n",
    "struct.readFromFile(\"input.data.1\")\n",
    "\n",
    "# Print some information:\n",
    "print \"Number of atoms: \", struct.numAtoms\n",
    "print \"Number of atoms per element: \"\n",
    "for (i, n) in enumerate(struct.numAtomsPerElement):\n",
    "    print nnp.elementMap[i], \": \", n"
   ]
  },
  {
   "cell_type": "code",
   "execution_count": null,
   "metadata": {},
   "outputs": [],
   "source": [
    "# Retrieve cutoff radius form NNP setup.                                        \n",
    "cutoffRadius = nnp.getMaxCutoffRadius()                                           \n",
    "print \"Cutoff radius = \", cutoffRadius                                          \n",
    "                                                                                \n",
    "# Calculate neighbor list.                                                      \n",
    "struct.calculateNeighborList(cutoffRadius)\n",
    "\n",
    "# Show some information about neighbor list.\n",
    "for atom in struct.atoms:\n",
    "    print \"Atom {0:4d} ({1:2s}): {2:3d} neighbors\".format(atom.index, nnp.elementMap[atom.element], atom.numNeighbors)"
   ]
  },
  {
   "cell_type": "code",
   "execution_count": null,
   "metadata": {},
   "outputs": [],
   "source": [
    "# Calculate symmetry functions for all atoms (using groups is generally faster).\n",
    "#nnp.calculateSymmetryFunctions(s, False)\n",
    "nnp.calculateSymmetryFunctionGroups(struct, False)\n",
    "                                                                                \n",
    "# Retrieve symmetry functions of atom with index 0.\n",
    "# Symmetry functions sort order is provided in the library output\n",
    "# of the setupSymmetryFunctions() method (see above).\n",
    "print struct.atoms[0].G"
   ]
  },
  {
   "cell_type": "code",
   "execution_count": null,
   "metadata": {},
   "outputs": [],
   "source": [
    "# Repeat the procedure for another structure.\n",
    "\n",
    "# First reset the structure, this will erase all data except for the ElementMap.\n",
    "struct.reset()\n",
    "\n",
    "struct.readFromFile(\"input.data.2\")\n",
    "struct.calculateNeighborList(cutoffRadius)\n",
    "%time nnp.calculateSymmetryFunctionGroups(struct, False)\n",
    "print struct.atoms[0].G"
   ]
  },
  {
   "cell_type": "code",
   "execution_count": null,
   "metadata": {},
   "outputs": [],
   "source": []
  }
 ],
 "metadata": {
  "anaconda-cloud": {},
  "kernelspec": {
   "display_name": "Python 2",
   "language": "python",
   "name": "python2"
  },
  "language_info": {
   "codemirror_mode": {
    "name": "ipython",
    "version": 2
   },
   "file_extension": ".py",
   "mimetype": "text/x-python",
   "name": "python",
   "nbconvert_exporter": "python",
   "pygments_lexer": "ipython2",
   "version": "2.7.14"
  }
 },
 "nbformat": 4,
 "nbformat_minor": 2
}
